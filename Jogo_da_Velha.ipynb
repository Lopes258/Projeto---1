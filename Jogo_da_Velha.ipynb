{
 "cells": [
  {
   "cell_type": "markdown",
   "metadata": {},
   "source": [
    "Primeiro definir o tabuleiro do jogo da velha"
   ]
  },
  {
   "cell_type": "code",
   "execution_count": 25,
   "metadata": {},
   "outputs": [
    {
     "name": "stdout",
     "output_type": "stream",
     "text": [
      "  |   |  \n",
      "----------\n",
      "  |   |  \n",
      "----------\n",
      "  |   |  \n"
     ]
    }
   ],
   "source": [
    "def display_tabuleiro(tabuleiro):\n",
    "    \n",
    "    print (tabuleiro[7]+' | '+tabuleiro[8]+' | '+tabuleiro[9])\n",
    "    print ('----------')\n",
    "    print (tabuleiro[4]+' | '+tabuleiro[5]+' | '+tabuleiro[6])\n",
    "    print ('----------')\n",
    "    print (tabuleiro[1]+' | '+tabuleiro[2]+' | '+tabuleiro[3])\n",
    "\n",
    "\n",
    "teste_tabuleiro = [' ']*10\n",
    "display_tabuleiro(teste_tabuleiro)"
   ]
  },
  {
   "cell_type": "markdown",
   "metadata": {},
   "source": [
    "Segunda parte definir o input para o jogador decidir se ele quer começar como 'X' ou 'O'"
   ]
  },
  {
   "cell_type": "code",
   "execution_count": 26,
   "metadata": {},
   "outputs": [],
   "source": [
    "def jogador_input():\n",
    "\n",
    "    marcador = ''\n",
    "\n",
    "    #Definir qual o Jogador 1 ira escolher entre X ou O\n",
    "\n",
    "    while not (marcador == 'X' or marcador == 'O'):\n",
    "        marcador = input('Jogador 1, escolha entre X ou O: ').upper()\n",
    "\n",
    "    if marcador == 'X':\n",
    "        return ('X','O')\n",
    "    else:\n",
    "        return ('O','X')"
   ]
  },
  {
   "cell_type": "markdown",
   "metadata": {},
   "source": [
    "Testar se o codigo esta retornando o input"
   ]
  },
  {
   "cell_type": "code",
   "execution_count": 27,
   "metadata": {},
   "outputs": [],
   "source": [
    "jogador1_marcador, jogador2_marcador =  jogador_input()"
   ]
  },
  {
   "cell_type": "markdown",
   "metadata": {},
   "source": [
    "Definir a posição do marcador no tabuleiro"
   ]
  },
  {
   "cell_type": "code",
   "execution_count": 29,
   "metadata": {},
   "outputs": [],
   "source": [
    "def local_marcador(tabuleiro, marcador, posicao):\n",
    "\n",
    "    tabuleiro[posicao] = marcador"
   ]
  },
  {
   "cell_type": "markdown",
   "metadata": {},
   "source": [
    "Definir a função que vai marcar (X ou O) e checar se ganhou"
   ]
  },
  {
   "cell_type": "code",
   "execution_count": 30,
   "metadata": {},
   "outputs": [],
   "source": [
    "def vencedor_check(tabuleiro, marca):\n",
    "\n",
    "    # Vencer Jogo da velha\n",
    "\n",
    "    #Checar todas as linhas\n",
    "\n",
    "    return ((tabuleiro[7] == marca and tabuleiro[8] == marca and tabuleiro[9] == marca) or # horizontal topo\n",
    "    (tabuleiro[4] == marca and tabuleiro[5] == marca and tabuleiro[6] == marca) or # horizontal meio\n",
    "    (tabuleiro[1] == marca and tabuleiro[2] == marca and tabuleiro[3] == marca) or # horizontal inferior\n",
    "    (tabuleiro[7] == marca and tabuleiro[4] == marca and tabuleiro[1] == marca) or # vertical da esquerda\n",
    "    (tabuleiro[8] == marca and tabuleiro[5] == marca and tabuleiro[2] == marca) or # vertical do meio\n",
    "    (tabuleiro[9] == marca and tabuleiro[6] == marca and tabuleiro[3] == marca) or # vertical da direita\n",
    "    (tabuleiro[7] == marca and tabuleiro[5] == marca and tabuleiro[3] == marca) or # diagonal\n",
    "    (tabuleiro[9] == marca and tabuleiro[5] == marca and tabuleiro[1] == marca)) # diagonal"
   ]
  },
  {
   "cell_type": "markdown",
   "metadata": {},
   "source": [
    "Determinar randomicamente qual dos jogadores começa primeiro"
   ]
  },
  {
   "cell_type": "code",
   "execution_count": 31,
   "metadata": {},
   "outputs": [],
   "source": [
    "import random\n",
    "\n",
    "def escolher_primeiro():\n",
    "\n",
    "    sorte = random.randint(0,1)\n",
    "\n",
    "    if sorte == 0:\n",
    "        return 'Jogador 1'\n",
    "    else:\n",
    "        return 'Jogador 2'"
   ]
  },
  {
   "cell_type": "markdown",
   "metadata": {},
   "source": [
    "Criar a função pra determinar se o espação no tabuleiro ainda esta disponivel"
   ]
  },
  {
   "cell_type": "code",
   "execution_count": 32,
   "metadata": {},
   "outputs": [],
   "source": [
    "def checar_espaco(tabuleiro, posicao):\n",
    "\n",
    "    return tabuleiro[posicao] == ' '"
   ]
  },
  {
   "cell_type": "markdown",
   "metadata": {},
   "source": [
    "Criar uma função para determinar se todo o tabuleiro esta cheio ou não"
   ]
  },
  {
   "cell_type": "code",
   "execution_count": 33,
   "metadata": {},
   "outputs": [],
   "source": [
    "def checar_tabuleiro_cheio(tabuleiro):\n",
    "\n",
    "    for i in range(1,10):\n",
    "        if checar_espaco(tabuleiro, i):\n",
    "            return False\n",
    "    return True"
   ]
  },
  {
   "cell_type": "markdown",
   "metadata": {},
   "source": [
    "Função usada pra pedir ao jogador escolher uma proxima posição"
   ]
  },
  {
   "cell_type": "code",
   "execution_count": 34,
   "metadata": {},
   "outputs": [],
   "source": [
    "def escolha_jogador(tabuleiro):\n",
    "\n",
    "    posicao = 0\n",
    "\n",
    "    while posicao not in [1,2,3,4,5,6,7,8,9] or not checar_espaco(tabuleiro, posicao):\n",
    "        posicao = int(input(\"Choose a position: (1-9)\"))\n",
    "\n",
    "    return posicao"
   ]
  },
  {
   "cell_type": "markdown",
   "metadata": {},
   "source": [
    "Criar a função para determinar se o jogador quer jogador de novo ou quer parar"
   ]
  },
  {
   "cell_type": "code",
   "execution_count": 35,
   "metadata": {},
   "outputs": [],
   "source": [
    "def replay():\n",
    "\n",
    "    escolha = input(\"Quer jogar de novo? Diga Sim ou Não\")\n",
    "\n",
    "    return escolha == 'Sim'"
   ]
  },
  {
   "cell_type": "markdown",
   "metadata": {},
   "source": [
    "Junção dos codigos para rodar o jogo"
   ]
  },
  {
   "cell_type": "code",
   "execution_count": 36,
   "metadata": {},
   "outputs": [
    {
     "name": "stdout",
     "output_type": "stream",
     "text": [
      "Bem Vindo ao JOGO DA VELHA\n",
      "Jogador 1 Irá jogar primeiro\n",
      "  |   |  \n",
      "----------\n",
      "  |   |  \n",
      "----------\n",
      "  |   |  \n",
      "  |   |  \n",
      "----------\n",
      "  |   |  \n",
      "----------\n",
      "X |   |  \n",
      "  |   |  \n",
      "----------\n",
      "  |   |  \n",
      "----------\n",
      "X |   | O\n",
      "  |   |  \n",
      "----------\n",
      "X |   |  \n",
      "----------\n",
      "X |   | O\n",
      "  |   |  \n",
      "----------\n",
      "X |   | O\n",
      "----------\n",
      "X |   | O\n",
      "X |   |  \n",
      "----------\n",
      "X |   | O\n",
      "----------\n",
      "X |   | O\n",
      "O JOGADOR 1 VENCEU!!\n"
     ]
    }
   ],
   "source": [
    "print(\"Bem Vindo ao JOGO DA VELHA\")\n",
    "\n",
    "while True:\n",
    "\n",
    "    o_tabuleiro = [' ']*10\n",
    "    jogador1_marcador,jogador2_marcador = jogador_input()\n",
    "    turno = escolher_primeiro()\n",
    "\n",
    "    print(turno + \" Irá jogar primeiro\")\n",
    "\n",
    "    jogar = input(\"Pronto para jogar? S ou N\")\n",
    "\n",
    "    if jogar == \"S\":\n",
    "        jogue = True\n",
    "    else:\n",
    "        jogue = False\n",
    "\n",
    "\n",
    "    while jogue:\n",
    "\n",
    "        if turno == \"Jogador 1\":\n",
    "\n",
    "            #Mostrar o tabuleiro\n",
    "            display_tabuleiro(o_tabuleiro)\n",
    "            #Escolher uma posição\n",
    "            posicao = escolha_jogador(o_tabuleiro)\n",
    "            #Colocar o marcador na posição\n",
    "            local_marcador(o_tabuleiro,jogador1_marcador,posicao)\n",
    "            #Checar se ganhou\n",
    "            if vencedor_check(o_tabuleiro,jogador1_marcador):\n",
    "                display_tabuleiro(o_tabuleiro)\n",
    "                print(\"O JOGADOR 1 VENCEU!!\")\n",
    "                jogue = False\n",
    "            else:\n",
    "                if checar_tabuleiro_cheio(o_tabuleiro):\n",
    "                    display_tabuleiro(o_tabuleiro)\n",
    "                    print('EMPATE')\n",
    "                    jogue = False\n",
    "                \n",
    "                else:\n",
    "                    turno = 'Jogador 2'\n",
    "\n",
    "        else:\n",
    "            \n",
    "            #Mostrar o tabuleiro\n",
    "            display_tabuleiro(o_tabuleiro)\n",
    "            #Escolher uma posição\n",
    "            posicao = escolha_jogador(o_tabuleiro)\n",
    "            #Colocar o marcador na posição\n",
    "            local_marcador(o_tabuleiro,jogador2_marcador,posicao)\n",
    "            #Checar se ganhou\n",
    "            if vencedor_check(o_tabuleiro,jogador2_marcador):\n",
    "                display_tabuleiro(o_tabuleiro)\n",
    "                print(\"O JOGADOR 2 VENCEU!!\")\n",
    "                jogue = False\n",
    "            else:\n",
    "                if checar_tabuleiro_cheio(o_tabuleiro):\n",
    "                    display_tabuleiro(o_tabuleiro)\n",
    "                    print('EMPATE')\n",
    "                    jogue = False\n",
    "                \n",
    "                else:\n",
    "                    turno = 'Jogador 1'   \n",
    "\n",
    "    if not replay():\n",
    "        break"
   ]
  }
 ],
 "metadata": {
  "kernelspec": {
   "display_name": "Python 3",
   "language": "python",
   "name": "python3"
  },
  "language_info": {
   "codemirror_mode": {
    "name": "ipython",
    "version": 3
   },
   "file_extension": ".py",
   "mimetype": "text/x-python",
   "name": "python",
   "nbconvert_exporter": "python",
   "pygments_lexer": "ipython3",
   "version": "3.10.5"
  }
 },
 "nbformat": 4,
 "nbformat_minor": 2
}
